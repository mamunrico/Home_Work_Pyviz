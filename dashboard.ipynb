{
 "cells": [
  {
   "cell_type": "markdown",
   "metadata": {},
   "source": [
    "# Toronto Dwellings Analysis Dashboard\n",
    "\n",
    "In this notebook, you will compile the visualizations from the previous analysis into functions to create a Panel dashboard."
   ]
  },
  {
   "cell_type": "code",
   "execution_count": 8,
   "metadata": {},
   "outputs": [],
   "source": [
    "# imports\n",
    "import panel as pn\n",
    "pn.extension('plotly')\n",
    "import plotly.express as px\n",
    "import pandas as pd\n",
    "import hvplot.pandas\n",
    "import matplotlib.pyplot as plt\n",
    "import os\n",
    "from pathlib import Path\n",
    "from dotenv import load_dotenv"
   ]
  },
  {
   "cell_type": "code",
   "execution_count": 2,
   "metadata": {},
   "outputs": [],
   "source": [
    "# Initialize the Panel Extensions (for Plotly)\n",
    "import panel as pn\n",
    "pn.extension(\"plotly\")"
   ]
  },
  {
   "cell_type": "code",
   "execution_count": 3,
   "metadata": {},
   "outputs": [],
   "source": [
    "# Read the Mapbox API key\n",
    "load_dotenv()\n",
    "map_box_api = os.getenv(\"mapbox\")\n",
    "px.set_mapbox_access_token(map_box_api)"
   ]
  },
  {
   "cell_type": "markdown",
   "metadata": {},
   "source": [
    "# Import Data"
   ]
  },
  {
   "cell_type": "code",
   "execution_count": 27,
   "metadata": {},
   "outputs": [],
   "source": [
    "# Import the CSVs to Pandas DataFrames\n",
    "file_path = Path(\"toronto_neighbourhoods_census_data.csv\")\n",
    "to_data = pd.read_csv(file_path, index_col=\"year\")\n",
    "\n",
    "file_path = Path(\"toronto_neighbourhoods_coordinates.csv\")\n",
    "df_neighbourhood_locations = pd.read_csv(file_path)"
   ]
  },
  {
   "cell_type": "code",
   "execution_count": 31,
   "metadata": {},
   "outputs": [
    {
     "data": {
      "text/html": [
       "<div>\n",
       "<style scoped>\n",
       "    .dataframe tbody tr th:only-of-type {\n",
       "        vertical-align: middle;\n",
       "    }\n",
       "\n",
       "    .dataframe tbody tr th {\n",
       "        vertical-align: top;\n",
       "    }\n",
       "\n",
       "    .dataframe thead th {\n",
       "        text-align: right;\n",
       "    }\n",
       "</style>\n",
       "<table border=\"1\" class=\"dataframe\">\n",
       "  <thead>\n",
       "    <tr style=\"text-align: right;\">\n",
       "      <th></th>\n",
       "      <th>neighbourhood</th>\n",
       "      <th>lat</th>\n",
       "      <th>lon</th>\n",
       "    </tr>\n",
       "  </thead>\n",
       "  <tbody>\n",
       "    <tr>\n",
       "      <th>0</th>\n",
       "      <td>Agincourt North</td>\n",
       "      <td>43.805441</td>\n",
       "      <td>-79.266712</td>\n",
       "    </tr>\n",
       "    <tr>\n",
       "      <th>1</th>\n",
       "      <td>Agincourt South-Malvern West</td>\n",
       "      <td>43.788658</td>\n",
       "      <td>-79.265612</td>\n",
       "    </tr>\n",
       "    <tr>\n",
       "      <th>2</th>\n",
       "      <td>Alderwood</td>\n",
       "      <td>43.604937</td>\n",
       "      <td>-79.541611</td>\n",
       "    </tr>\n",
       "    <tr>\n",
       "      <th>3</th>\n",
       "      <td>Annex</td>\n",
       "      <td>43.671585</td>\n",
       "      <td>-79.404001</td>\n",
       "    </tr>\n",
       "    <tr>\n",
       "      <th>4</th>\n",
       "      <td>Banbury-Don Mills</td>\n",
       "      <td>43.737657</td>\n",
       "      <td>-79.349718</td>\n",
       "    </tr>\n",
       "  </tbody>\n",
       "</table>\n",
       "</div>"
      ],
      "text/plain": [
       "                  neighbourhood        lat        lon\n",
       "0               Agincourt North  43.805441 -79.266712\n",
       "1  Agincourt South-Malvern West  43.788658 -79.265612\n",
       "2                     Alderwood  43.604937 -79.541611\n",
       "3                         Annex  43.671585 -79.404001\n",
       "4             Banbury-Don Mills  43.737657 -79.349718"
      ]
     },
     "execution_count": 31,
     "metadata": {},
     "output_type": "execute_result"
    }
   ],
   "source": [
    "df_neighbourhood_locations.head()"
   ]
  },
  {
   "cell_type": "markdown",
   "metadata": {},
   "source": [
    "- - -"
   ]
  },
  {
   "cell_type": "markdown",
   "metadata": {},
   "source": [
    "- - -"
   ]
  },
  {
   "cell_type": "markdown",
   "metadata": {},
   "source": [
    "## Panel Visualizations\n",
    "\n",
    "In this section, you will copy the code for each plot type from your analysis notebook and place it into separate functions that Panel can use to create panes for the dashboard. \n",
    "\n",
    "These functions will convert the plot object to a Panel pane.\n",
    "\n",
    "Be sure to include any DataFrame transformation/manipulation code required along with the plotting code.\n",
    "\n",
    "Return a Panel pane object from each function that can be used to build the dashboard.\n",
    "\n",
    "Note: Remove any `.show()` lines from the code. We want to return the plots instead of showing them. The Panel dashboard will then display the plots."
   ]
  },
  {
   "cell_type": "markdown",
   "metadata": {},
   "source": [
    "### Global available data"
   ]
  },
  {
   "cell_type": "code",
   "execution_count": 6,
   "metadata": {},
   "outputs": [],
   "source": [
    "# Getting the data from the top 10 expensive neighbourhoods\n",
    "def top_most_expensive_neighbourhoods():\n",
    "    df_top_exp = to_data.groupby('neighbourhood').sum()\n",
    "    df_top_avg= df_top_exp['average_house_value'].sort_values(ascending=False).nlargest(10)\n",
    "    fig_top_avg = plt.figure()\n",
    "    plot_top_avg = df_top_avg.plot.bar()\n",
    "    plot_top_avg.set_xlabel(\"neighbourhood\")\n",
    "    plot_top_avg.set_ylabel(\"average_house_value\")\n",
    "    plot_top_avg.set_title(\"The top 10 expensive neighbourhoods\")\n",
    "    plt.close(fig_top_exp)\n",
    "    return pn.pane.Matplotlib(fig_top_avg, tight=True)\n",
    "    \n",
    "# Calculate the mean number of dwelling types units per year\n",
    "# YOUR CODE HERE!\n",
    "def number_of_dwelling_types_units_per_year():\n",
    "    df_num_dwelling = to_data['movable_dwelling'].groupby(to_data.index).mean()\n",
    "    fig_num_dwelling = plt.figure()\n",
    "    plot_num_dwelling = df_num_dwelling.plot.bar()\n",
    "    plot_num_dwelling.set_xlabel(\"Year\")\n",
    "    plot_num_dwelling.set_ylabel(\"Mean number of dwelling types\")\n",
    "    plot_num_dwelling.set_title(\"The mean number of dwelling types units per year\")\n",
    "    plt.close(fig_num_dwelling)\n",
    "    return pn.pane.Matplotlib(fig_num_dwelling, tight=True)\n",
    "# Calculate the average monthly shelter costs for owned and rented dwellings\n",
    "def average_monthly_shelter_cost():\n",
    "    df_monthly_shelter_cost = to_data.groupby(to_data.index).mean()\n",
    "    df_monthly_shelter_cost= df_monthly_shelter_cost.drop(['single_detached_house','apartment_five_storeys_plus','movable_dwelling','semi_detached_house','row_house','duplex','apartment_five_storeys_less','other_house','average_house_value'], axis =1)    \n",
    "    fig_monthly_shelter_cost = plt.figure()\n",
    "    plot_monthly_shelter_cost = df_monthly_shelter_cost.plot.bar()\n",
    "    plot_monthly_shelter_cost.set_xlabel(\"shelter_costs_owned\", \"shelter_costs_rented\")\n",
    "    plot_monthly_shelter_cost.set_ylabel(\"Mean number of shelter_cost\")\n",
    "    plot_monthly_shelter_cost.set_title(\"The mean number of shelter cost for owed and rented dwelling\")\n",
    "    plt.close(fig_monthly_shelter_cost)\n",
    "    return pn.pane.Matplotlib(fig_monthly_shelter_cost, tight=True)\n"
   ]
  },
  {
   "cell_type": "markdown",
   "metadata": {},
   "source": [
    "### Panel Visualization Functions"
   ]
  },
  {
   "cell_type": "code",
   "execution_count": 32,
   "metadata": {},
   "outputs": [],
   "source": [
    "# Define Panel visualization functions\n",
    "def neighbourhood_map():\n",
    "    \"\"\"Neighbourhood Map\"\"\"\n",
    "   \n",
    "    # YOUR CODE HERE!\n",
    "    neighbourhood_map= to_data.groupby(\"neighbourhood\").mean()\n",
    "    neighbourhood_map = neighbourhood_map.reset_index()\n",
    "    neighbourhood_map = pd.merge(df_neighbourhood_locations,neighbourhood_map, on = \"neighbourhood\")\n",
    "    px.set_mapbox_access_token(map_box_api)\n",
    "    px.set_mapbox_access_token(\"pk.eyJ1IjoiYW1icmVlbnNpbW9uMjAwMiIsImEiOiJja2dpcGlrdXgwamJ2Mnpuc2Q3c2tqMzd6In0.Ey8qXfQ7cvOasEUdcQiedQ\")\n",
    "    map = px.scatter_mapbox(\n",
    "    neighbourhood_map,\n",
    "    lat=\"lat\",\n",
    "    lon=\"lon\",\n",
    "    color=\"average_house_value\",\n",
    "    size=\"average_house_value\",\n",
    "    size_max=15,\n",
    "    zoom=10)\n",
    "    plotly_panel = pn.pane.Plotly(map)\n",
    "    plotly_panel._updates = True\n",
    "    return plotly_panel\n",
    "def create_bar_chart(data, title, xlabel, ylabel, color):\n",
    "    \"\"\"\n",
    "    Create a barplot based in the data argument.\n",
    "    \"\"\"\n",
    "    fig = plt.figure()\n",
    "    bar = data.plot.bar(color=color)\n",
    "    Set_xlabel= xlabel \n",
    "    set_ylabel= ylabel\n",
    "    title= title \n",
    "    plt.show()\n",
    "    plt.close(fig)\n",
    "\n",
    "    # YOUR CODE HERE!\n",
    "\n",
    "def create_line_chart(data, title, xlabel, ylabel, color):\n",
    "    \"\"\"\n",
    "    Create a line chart based in the data argument.\n",
    "    \"\"\"\n",
    "    fig = plt.figure()\n",
    "    line = data.plot.line(color= color)\n",
    "    Set_xlabel= xlabel \n",
    "    set_ylabel= ylabel\n",
    "    title= title \n",
    "    plt.show()\n",
    "    plt.close(fig)\n",
    "    # YOUR CODE HERE!\n",
    "\n",
    "def average_house_value():\n",
    "    \"\"\"Average house values per year.\"\"\"\n",
    "    \n",
    "    # YOUR CODE HERE!\n",
    "    average_house_value = to_data[[\"average_house_value\"]].groupby(\"year\",\"neighbourhood\").mean()\n",
    "    \n",
    "    return average_house_value\n",
    "def average_value_by_neighbourhood():\n",
    "    \"\"\"Average house values by neighbourhood.\"\"\"\n",
    "    \n",
    "    # YOUR CODE HERE!\n",
    "    df_data_frame = to_data\n",
    "    df_data_frame = df_data_frame.drop(['single_detached_house','apartment_five_storeys_plus','movable_dwelling','semi_detached_house','row_house','duplex','apartment_five_storeys_less','other_house','shelter_costs_owned','shelter_costs_rented'], axis =1)   \n",
    "    df_avg_house = df_data_frame.hvplot.line(\"year\",\"average_house_value\", groupby = \"neighbourhood\")\n",
    "    return df_avg_house\n",
    "def number_dwelling_types():\n",
    "    \"\"\"Number of dwelling types per year\"\"\"\n",
    "    \n",
    "    # YOUR CODE HERE!\n",
    "    df_num_dwelling = to_data['movable_dwelling'].groupby(to_data.index).mean()\n",
    "    fig_num_dwelling = plt.figure()\n",
    "    plot_num_dwelling = df_num_dwelling.plot.bar()\n",
    "    plot_num_dwelling.set_xlabel(\"Year\")\n",
    "    plot_num_dwelling.set_ylabel(\"Mean number of dwelling types\")\n",
    "    plot_num_dwelling.set_title(\"The mean number of dwelling types units per year\")\n",
    "    plt.close(fig_num_dwelling)\n",
    "    return pn.pane.Matplotlib(fig_num_dwelling, tight=True)\n",
    "\n",
    "def average_house_value_snapshot():\n",
    "    \"\"\"Average house value for all Toronto's neighbourhoods per year.\"\"\"\n",
    "    average_house_value_snapshot = to_data[[\"average_house_value\"]].groupby(\"year\",\"neighbourhood\").mean()\n",
    "    fig_average_house_value_snapshot= plt.figure()\n",
    "    plot_average_house_value_snapshot = df_average_house_value_snapshot.plot.line()\n",
    "    plot_average_house_value_snapshot.set_xlabel(\"year\")\n",
    "    plot_average_house_value_snapshot.set_ylabel(\"avg house value\")\n",
    "    plot_average_house_value_snapshot.set_title(\"average_house_value\")\n",
    "    plt.close(fig_average_house_value_snapshot)\n",
    "    return pn.pane.Matplotlib(fig_average_house_value_snapshot, tight=True)\n",
    "    # YOUR CODE HERE!\n",
    "\n",
    "def top_most_expensive_neighbourhoods():\n",
    "    \"\"\"Top 10 most expensive neighbourhoods.\"\"\"\n",
    "    \n",
    "    # YOUR CODE HERE!\n",
    "    df_top_exp = to_data.groupby('neighbourhood').sum()\n",
    "    df_top_avg= df_top_exp['average_house_value'].sort_values(ascending=False).nlargest(10)\n",
    "    fig_top_avg = plt.figure()\n",
    "    plot_top_avg = df_top_avg.plot.bar()\n",
    "    plot_top_avg.set_xlabel(\"neighbourhood\")\n",
    "    plot_top_avg.set_ylabel(\"average_house_value\")\n",
    "    plot_top_avg.set_title(\"The top 10 expensive neighbourhoods\")\n",
    "    plt.close(fig_top_exp)\n",
    "    return pn.pane.Matplotlib(fig_top_avg, tight=True)\n",
    "    \n",
    "def sunburts_cost_analysis():\n",
    "    \"\"\"Sunburst chart to conduct a costs analysis of most expensive neighbourhoods in Toronto per year.\"\"\"\n",
    "    \n",
    "    # YOUR CODE HERE!"
   ]
  },
  {
   "cell_type": "markdown",
   "metadata": {},
   "source": [
    "## Panel Dashboard\n",
    "\n",
    "In this section, you will combine all of the plots into a single dashboard view using Panel. Be creative with your dashboard design!"
   ]
  },
  {
   "cell_type": "code",
   "execution_count": 45,
   "metadata": {},
   "outputs": [
    {
     "ename": "IndentationError",
     "evalue": "unindent does not match any outer indentation level (<tokenize>, line 85)",
     "output_type": "error",
     "traceback": [
      "\u001b[1;36m  File \u001b[1;32m\"<tokenize>\"\u001b[1;36m, line \u001b[1;32m85\u001b[0m\n\u001b[1;33m    )\u001b[0m\n\u001b[1;37m    ^\u001b[0m\n\u001b[1;31mIndentationError\u001b[0m\u001b[1;31m:\u001b[0m unindent does not match any outer indentation level\n"
     ]
    }
   ],
   "source": [
    "# Create a Title for the Dashboard\n",
    "# YOUR CODE HERE!\n",
    "# Create tabs\n",
    "title = pn.pane.Markdown(\n",
    "\"\"\"\n",
    "Hello World 2020\n",
    "\n",
    "\"\"\",\n",
    "    width=900,\n",
    ")\n",
    "welcome = pn.pane.Markdown(\n",
    "\"\"\"\n",
    "This is a dashboard of Rico.....\n",
    "\n",
    "\"\"\"\n",
    ")\n",
    "#layouts fro the dashboard\n",
    "tabs = pn.Tabs(\n",
    "        #First Tab\n",
    "        (\n",
    "            \"Neighbourhood Map\", \n",
    "            pn.Column\n",
    "            (\n",
    "                pn.Row\n",
    "                (\n",
    "                    neighbourhood_map()\n",
    "                ),\n",
    "                pn.Row\n",
    "                (\n",
    "                    neighbourhood_map()\n",
    "                )\n",
    "            )\n",
    "        )\n",
    "        )\n",
    "     #second Tab\n",
    "        \n",
    "        (\n",
    "            \"average_house_value\", \n",
    "            pn.Column\n",
    "            (\n",
    "                pn.Row\n",
    "                (\n",
    "                    avg_house_value()\n",
    "                ),\n",
    "                pn.Row\n",
    "                (\n",
    "                    avg_house_value()\n",
    "                )\n",
    "            )\n",
    "        \n",
    "        )\n",
    "        ) \n",
    "        #3rd Tab\n",
    "        \n",
    "        (\n",
    "            \"Average house values by neighbourhood\", \n",
    "            pn.Column\n",
    "            (\n",
    "                pn.Row\n",
    "                (\n",
    "                    avg_house_value()\n",
    "                ),\n",
    "                pn.Row\n",
    "                (\n",
    "                    avg_house_value()\n",
    "                )\n",
    "            )\n",
    "        \n",
    "        )\n",
    "        )\n",
    "        \n",
    "        #4th Tab\n",
    "        (\n",
    "            \"Number of dwelling types per year\", \n",
    "            pn.Column\n",
    "            (\n",
    "                pn.Row\n",
    "                (\n",
    "                    number_of_dwelling_types_units_per_year()\n",
    "                ),\n",
    "                pn.Row\n",
    "                (\n",
    "                    number_of_dwelling_types_units_per_year()\n",
    "                )\n",
    "            )\n",
    "        )\n",
    "        )\n",
    "# tabs = pn.Tabs(\n",
    "#         (\"neighbourhood_map\", pn.Row(average_house_value())),\n",
    "#         (\" average_house_value\", pn.Row((neighbourhood))),\n",
    "#         (\"average_house_value_snapshot\", pn.Row((year))),\n",
    "#         (\"df_data_frame\", pn.Row((year))),\n",
    "#         (\"df_top_exp\", pn.Row((neighbourhood))),\n",
    "#         (\"Avg. dewlling\", pn.Row(number_of_dwelling_types_units_per_year())),\n",
    "#         (\"Avg. dewlling_2\", pn.Column(number_of_dwelling_types_units_per_year())),\n",
    "#         (\"df_num_dwelling\", pn.Row(Mean_number_of_dwelling_types))),\n",
    "\n",
    "\n",
    "db =  pn.Column(pn.Row(title),tabs,width=1000)\n",
    "db.servable()"
   ]
  },
  {
   "cell_type": "markdown",
   "metadata": {},
   "source": [
    "## Serve the Panel Dashboard"
   ]
  },
  {
   "cell_type": "markdown",
   "metadata": {},
   "source": [
    "# Debugging\n",
    "\n",
    "Note: Some of the Plotly express plots may not render in the notebook through the panel functions.\n",
    "\n",
    "However, you can test each plot by uncommenting the following code"
   ]
  },
  {
   "cell_type": "code",
   "execution_count": null,
   "metadata": {},
   "outputs": [],
   "source": [
    "neighbourhood_map().show()"
   ]
  },
  {
   "cell_type": "code",
   "execution_count": null,
   "metadata": {},
   "outputs": [],
   "source": [
    "# create_bar_chart(data, title, xlabel, ylabel, color)\n",
    "\n",
    "# # Bar chart for 2001\n",
    "create_bar_chart(df_dwelling_units.loc[2001], \"Dwelling Types in Toronto in 2001\", \"2001\", \"Dwelling Type Units\", \"red\")\n",
    "\n",
    "# # Bar chart for 2006\n",
    "create_bar_chart(df_dwelling_units.loc[2006], \"Dwelling Types in Toronto in 2006\", \"2006\", \"Dwelling Type Units\", \"blue\")\n",
    "\n",
    "# # Bar chart for 2011\n",
    "create_bar_chart(df_dwelling_units.loc[2011], \"Dwelling Types in Toronto in 2011\", \"2011\", \"Dwelling Type Units\", \"orange\")\n",
    "\n",
    "# # Bar chart for 2016\n",
    "create_bar_chart(df_dwelling_units.loc[2016], \"Dwelling Types in Toronto in 2016\", \"2016\", \"Dwelling Type Units\", \"magenta\")"
   ]
  },
  {
   "cell_type": "code",
   "execution_count": null,
   "metadata": {},
   "outputs": [],
   "source": [
    "# create_line_chart(data, title, xlabel, ylabel, color)\n",
    "\n",
    "# # Line chart for owned dwellings\n",
    "create_line_chart(df_avg_costs[\"shelter_costs_owned\"], \"Average Monthly Shelter Cost for Owned Dwellings in Toronto\", \"Year\", \"Avg Monthly Shelter Costs\", \"blue\")\n",
    "\n",
    "# # Line chart for rented dwellings\n",
    "create_line_chart(df_avg_costs[\"shelter_costs_rented\"], \"Average Monthly Shelter Cost for Rented Dwellings in Toronto\", \"Year\", \"Avg Monthly Shelter Costs\", \"orange\")"
   ]
  },
  {
   "cell_type": "code",
   "execution_count": null,
   "metadata": {},
   "outputs": [],
   "source": [
    "average_house_value()"
   ]
  },
  {
   "cell_type": "code",
   "execution_count": null,
   "metadata": {},
   "outputs": [],
   "source": [
    "average_value_by_neighbourhood()"
   ]
  },
  {
   "cell_type": "code",
   "execution_count": null,
   "metadata": {},
   "outputs": [],
   "source": [
    "number_dwelling_types()"
   ]
  },
  {
   "cell_type": "code",
   "execution_count": null,
   "metadata": {},
   "outputs": [],
   "source": [
    "average_house_value_snapshot()"
   ]
  },
  {
   "cell_type": "code",
   "execution_count": null,
   "metadata": {},
   "outputs": [],
   "source": [
    "top_most_expensive_neighbourhoods()"
   ]
  },
  {
   "cell_type": "code",
   "execution_count": null,
   "metadata": {},
   "outputs": [],
   "source": [
    "# sunburts_cost_analysis()"
   ]
  }
 ],
 "metadata": {
  "file_extension": ".py",
  "kernelspec": {
   "display_name": "Python [conda env:pyvizenv] *",
   "language": "python",
   "name": "conda-env-pyvizenv-py"
  },
  "language_info": {
   "codemirror_mode": {
    "name": "ipython",
    "version": 3
   },
   "file_extension": ".py",
   "mimetype": "text/x-python",
   "name": "python",
   "nbconvert_exporter": "python",
   "pygments_lexer": "ipython3",
   "version": "3.7.7"
  },
  "mimetype": "text/x-python",
  "name": "python",
  "npconvert_exporter": "python",
  "pygments_lexer": "ipython3",
  "version": 3
 },
 "nbformat": 4,
 "nbformat_minor": 4
}
